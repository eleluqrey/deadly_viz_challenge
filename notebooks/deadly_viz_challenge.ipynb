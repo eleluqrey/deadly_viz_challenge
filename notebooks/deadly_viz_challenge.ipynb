{
 "cells": [
  {
   "cell_type": "markdown",
   "metadata": {},
   "source": [
    "# Deadly Visualizations!!!\n",
    "\n",
    "![Image](../images/viz_types_portada.png)"
   ]
  },
  {
   "cell_type": "markdown",
   "metadata": {},
   "source": [
    "## Setup\n",
    "\n",
    "First we need to create a basic setup which includes:\n",
    "\n",
    "- Importing the libraries.\n",
    "\n",
    "- Reading the dataset file (source [Instituto Nacional de Estadística](https://www.ine.es/ss/Satellite?L=es_ES&c=Page&cid=1259942408928&p=1259942408928&pagename=ProductosYServicios%2FPYSLayout)).\n",
    "\n",
    "- Create a couple of columns and tables for the analysis.\n",
    "\n",
    "__NOTE:__ some functions were already created in order to help you go through the challenge. However, feel free to perform any code you might need."
   ]
  },
  {
   "cell_type": "code",
   "execution_count": 1,
   "metadata": {},
   "outputs": [
    {
     "data": {
      "text/html": [
       "        <script type=\"text/javascript\">\n",
       "        window.PlotlyConfig = {MathJaxConfig: 'local'};\n",
       "        if (window.MathJax && window.MathJax.Hub && window.MathJax.Hub.Config) {window.MathJax.Hub.Config({SVG: {font: \"STIX-Web\"}});}\n",
       "        if (typeof require !== 'undefined') {\n",
       "        require.undef(\"plotly\");\n",
       "        requirejs.config({\n",
       "            paths: {\n",
       "                'plotly': ['https://cdn.plot.ly/plotly-2.12.1.min']\n",
       "            }\n",
       "        });\n",
       "        require(['plotly'], function(Plotly) {\n",
       "            window._Plotly = Plotly;\n",
       "        });\n",
       "        }\n",
       "        </script>\n",
       "        "
      ]
     },
     "metadata": {},
     "output_type": "display_data"
    }
   ],
   "source": [
    "# imports\n",
    "\n",
    "import sys\n",
    "import re\n",
    "sys.path.insert(0, \"../modules\")\n",
    "\n",
    "import numpy as np\n",
    "import pandas as pd\n",
    "\n",
    "import plotly.express as px\n",
    "import cufflinks as cf\n",
    "cf.go_offline()\n",
    "\n",
    "import module as mod     # functions are include in module.py"
   ]
  },
  {
   "cell_type": "code",
   "execution_count": 2,
   "metadata": {},
   "outputs": [
    {
     "name": "stdout",
     "output_type": "stream",
     "text": [
      "<class 'pandas.core.frame.DataFrame'>\n",
      "RangeIndex: 301158 entries, 0 to 301157\n",
      "Data columns (total 5 columns):\n",
      " #   Column           Non-Null Count   Dtype \n",
      "---  ------           --------------   ----- \n",
      " 0   Causa de muerte  301158 non-null  object\n",
      " 1   Sexo             301158 non-null  object\n",
      " 2   Edad             301158 non-null  object\n",
      " 3   Periodo          301158 non-null  int64 \n",
      " 4   Total            301158 non-null  int64 \n",
      "dtypes: int64(2), object(3)\n",
      "memory usage: 11.5+ MB\n"
     ]
    }
   ],
   "source": [
    "# read dataset\n",
    "\n",
    "deaths = pd.read_csv('../data/7947.csv', sep=';', thousands='.')\n",
    "\n",
    "deaths.info()"
   ]
  },
  {
   "cell_type": "code",
   "execution_count": 14,
   "metadata": {},
   "outputs": [
    {
     "name": "stdout",
     "output_type": "stream",
     "text": [
      "                                         Causa de muerte     Sexo  \\\n",
      "0                       001-102  I-XXII.Todas las causas    Total   \n",
      "1                       001-102  I-XXII.Todas las causas    Total   \n",
      "2                       001-102  I-XXII.Todas las causas    Total   \n",
      "3                       001-102  I-XXII.Todas las causas    Total   \n",
      "4                       001-102  I-XXII.Todas las causas    Total   \n",
      "...                                                  ...      ...   \n",
      "301153  102  Otras causas externas y sus efectos tardíos  Mujeres   \n",
      "301154  102  Otras causas externas y sus efectos tardíos  Mujeres   \n",
      "301155  102  Otras causas externas y sus efectos tardíos  Mujeres   \n",
      "301156  102  Otras causas externas y sus efectos tardíos  Mujeres   \n",
      "301157  102  Otras causas externas y sus efectos tardíos  Mujeres   \n",
      "\n",
      "                    Edad  Periodo   Total cause_code      cause_group  \\\n",
      "0       Todas las edades     2018  427721    001-102  Multiple causes   \n",
      "1       Todas las edades     2017  424523    001-102  Multiple causes   \n",
      "2       Todas las edades     2016  410611    001-102  Multiple causes   \n",
      "3       Todas las edades     2015  422568    001-102  Multiple causes   \n",
      "4       Todas las edades     2014  395830    001-102  Multiple causes   \n",
      "...                  ...      ...     ...        ...              ...   \n",
      "301153     95 y más años     1984       0        102     Single cause   \n",
      "301154     95 y más años     1983       0        102     Single cause   \n",
      "301155     95 y más años     1982       0        102     Single cause   \n",
      "301156     95 y más años     1981       0        102     Single cause   \n",
      "301157     95 y más años     1980       0        102     Single cause   \n",
      "\n",
      "                                         cause_name  \n",
      "0                           I-XXII.Todas las causas  \n",
      "1                           I-XXII.Todas las causas  \n",
      "2                           I-XXII.Todas las causas  \n",
      "3                           I-XXII.Todas las causas  \n",
      "4                           I-XXII.Todas las causas  \n",
      "...                                             ...  \n",
      "301153  Otras causas externas y sus efectos tardíos  \n",
      "301154  Otras causas externas y sus efectos tardíos  \n",
      "301155  Otras causas externas y sus efectos tardíos  \n",
      "301156  Otras causas externas y sus efectos tardíos  \n",
      "301157  Otras causas externas y sus efectos tardíos  \n",
      "\n",
      "[301158 rows x 8 columns]\n"
     ]
    }
   ],
   "source": [
    "print(deaths)"
   ]
  },
  {
   "cell_type": "code",
   "execution_count": 3,
   "metadata": {},
   "outputs": [
    {
     "name": "stdout",
     "output_type": "stream",
     "text": [
      "<class 'pandas.core.frame.DataFrame'>\n",
      "RangeIndex: 301158 entries, 0 to 301157\n",
      "Data columns (total 8 columns):\n",
      " #   Column           Non-Null Count   Dtype \n",
      "---  ------           --------------   ----- \n",
      " 0   Causa de muerte  301158 non-null  object\n",
      " 1   Sexo             301158 non-null  object\n",
      " 2   Edad             301158 non-null  object\n",
      " 3   Periodo          301158 non-null  int64 \n",
      " 4   Total            301158 non-null  int64 \n",
      " 5   cause_code       301158 non-null  object\n",
      " 6   cause_group      301158 non-null  object\n",
      " 7   cause_name       301158 non-null  object\n",
      "dtypes: int64(2), object(6)\n",
      "memory usage: 18.4+ MB\n"
     ]
    }
   ],
   "source": [
    "# add some columns...you'll need them later\n",
    "\n",
    "deaths['cause_code'] = deaths['Causa de muerte'].apply(mod.cause_code)\n",
    "deaths['cause_group'] = deaths['Causa de muerte'].apply(mod.cause_types)\n",
    "deaths['cause_name'] = deaths['Causa de muerte'].apply(mod.cause_name)\n",
    "\n",
    "deaths.info()"
   ]
  },
  {
   "cell_type": "code",
   "execution_count": 4,
   "metadata": {},
   "outputs": [
    {
     "data": {
      "text/html": [
       "<div>\n",
       "<style scoped>\n",
       "    .dataframe tbody tr th:only-of-type {\n",
       "        vertical-align: middle;\n",
       "    }\n",
       "\n",
       "    .dataframe tbody tr th {\n",
       "        vertical-align: top;\n",
       "    }\n",
       "\n",
       "    .dataframe thead th {\n",
       "        text-align: right;\n",
       "    }\n",
       "</style>\n",
       "<table border=\"1\" class=\"dataframe\">\n",
       "  <thead>\n",
       "    <tr style=\"text-align: right;\">\n",
       "      <th></th>\n",
       "      <th>categorical_variable</th>\n",
       "      <th>number_of_possible_values</th>\n",
       "      <th>values</th>\n",
       "    </tr>\n",
       "  </thead>\n",
       "  <tbody>\n",
       "    <tr>\n",
       "      <th>0</th>\n",
       "      <td>cause_code</td>\n",
       "      <td>117</td>\n",
       "      <td>[001-102, 001-008, 001, 002, 003, 004, 005, 00...</td>\n",
       "    </tr>\n",
       "    <tr>\n",
       "      <th>1</th>\n",
       "      <td>cause_name</td>\n",
       "      <td>117</td>\n",
       "      <td>[I-XXII.Todas las causas, I.Enfermedades infec...</td>\n",
       "    </tr>\n",
       "    <tr>\n",
       "      <th>2</th>\n",
       "      <td>Periodo</td>\n",
       "      <td>39</td>\n",
       "      <td>[2018, 2017, 2016, 2015, 2014, 2013, 2012, 201...</td>\n",
       "    </tr>\n",
       "    <tr>\n",
       "      <th>3</th>\n",
       "      <td>Edad</td>\n",
       "      <td>22</td>\n",
       "      <td>[Todas las edades, Menos de 1 año, De 1 a 4 añ...</td>\n",
       "    </tr>\n",
       "    <tr>\n",
       "      <th>4</th>\n",
       "      <td>Sexo</td>\n",
       "      <td>3</td>\n",
       "      <td>[Total, Hombres, Mujeres]</td>\n",
       "    </tr>\n",
       "    <tr>\n",
       "      <th>5</th>\n",
       "      <td>cause_group</td>\n",
       "      <td>2</td>\n",
       "      <td>[Multiple causes, Single cause]</td>\n",
       "    </tr>\n",
       "  </tbody>\n",
       "</table>\n",
       "</div>"
      ],
      "text/plain": [
       "  categorical_variable  number_of_possible_values  \\\n",
       "0           cause_code                        117   \n",
       "1           cause_name                        117   \n",
       "2              Periodo                         39   \n",
       "3                 Edad                         22   \n",
       "4                 Sexo                          3   \n",
       "5          cause_group                          2   \n",
       "\n",
       "                                              values  \n",
       "0  [001-102, 001-008, 001, 002, 003, 004, 005, 00...  \n",
       "1  [I-XXII.Todas las causas, I.Enfermedades infec...  \n",
       "2  [2018, 2017, 2016, 2015, 2014, 2013, 2012, 201...  \n",
       "3  [Todas las edades, Menos de 1 año, De 1 a 4 añ...  \n",
       "4                          [Total, Hombres, Mujeres]  \n",
       "5                    [Multiple causes, Single cause]  "
      ]
     },
     "execution_count": 4,
     "metadata": {},
     "output_type": "execute_result"
    }
   ],
   "source": [
    "# lets check the categorical variables\n",
    "\n",
    "var_list = ['Sexo', 'Edad', 'Periodo', 'cause_code', 'cause_name', 'cause_group']\n",
    "\n",
    "categories = mod.cat_var(deaths, var_list)\n",
    "categories"
   ]
  },
  {
   "cell_type": "code",
   "execution_count": 4,
   "metadata": {},
   "outputs": [
    {
     "data": {
      "text/html": [
       "<div>\n",
       "<style scoped>\n",
       "    .dataframe tbody tr th:only-of-type {\n",
       "        vertical-align: middle;\n",
       "    }\n",
       "\n",
       "    .dataframe tbody tr th {\n",
       "        vertical-align: top;\n",
       "    }\n",
       "\n",
       "    .dataframe thead th {\n",
       "        text-align: right;\n",
       "    }\n",
       "</style>\n",
       "<table border=\"1\" class=\"dataframe\">\n",
       "  <thead>\n",
       "    <tr style=\"text-align: right;\">\n",
       "      <th></th>\n",
       "      <th>cause_code</th>\n",
       "      <th>cause_name</th>\n",
       "    </tr>\n",
       "  </thead>\n",
       "  <tbody>\n",
       "    <tr>\n",
       "      <th>0</th>\n",
       "      <td>001</td>\n",
       "      <td>Enfermedades infecciosas intestinales</td>\n",
       "    </tr>\n",
       "    <tr>\n",
       "      <th>1</th>\n",
       "      <td>001-008</td>\n",
       "      <td>I.Enfermedades infecciosas y parasitarias</td>\n",
       "    </tr>\n",
       "    <tr>\n",
       "      <th>2</th>\n",
       "      <td>001-102</td>\n",
       "      <td>I-XXII.Todas las causas</td>\n",
       "    </tr>\n",
       "    <tr>\n",
       "      <th>3</th>\n",
       "      <td>002</td>\n",
       "      <td>Tuberculosis y sus efectos tardíos</td>\n",
       "    </tr>\n",
       "    <tr>\n",
       "      <th>4</th>\n",
       "      <td>003</td>\n",
       "      <td>Enfermedad meningocócica</td>\n",
       "    </tr>\n",
       "    <tr>\n",
       "      <th>...</th>\n",
       "      <td>...</td>\n",
       "      <td>...</td>\n",
       "    </tr>\n",
       "    <tr>\n",
       "      <th>112</th>\n",
       "      <td>098</td>\n",
       "      <td>Suicidio y lesiones autoinfligidas</td>\n",
       "    </tr>\n",
       "    <tr>\n",
       "      <th>113</th>\n",
       "      <td>099</td>\n",
       "      <td>Agresiones (homicidio)</td>\n",
       "    </tr>\n",
       "    <tr>\n",
       "      <th>114</th>\n",
       "      <td>100</td>\n",
       "      <td>Eventos de intención no determinada</td>\n",
       "    </tr>\n",
       "    <tr>\n",
       "      <th>115</th>\n",
       "      <td>101</td>\n",
       "      <td>Complicaciones de la atención médica y quirúrgica</td>\n",
       "    </tr>\n",
       "    <tr>\n",
       "      <th>116</th>\n",
       "      <td>102</td>\n",
       "      <td>Otras causas externas y sus efectos tardíos</td>\n",
       "    </tr>\n",
       "  </tbody>\n",
       "</table>\n",
       "<p>117 rows × 2 columns</p>\n",
       "</div>"
      ],
      "text/plain": [
       "    cause_code                                         cause_name\n",
       "0          001              Enfermedades infecciosas intestinales\n",
       "1      001-008          I.Enfermedades infecciosas y parasitarias\n",
       "2      001-102                            I-XXII.Todas las causas\n",
       "3          002                 Tuberculosis y sus efectos tardíos\n",
       "4          003                           Enfermedad meningocócica\n",
       "..         ...                                                ...\n",
       "112        098                 Suicidio y lesiones autoinfligidas\n",
       "113        099                             Agresiones (homicidio)\n",
       "114        100                Eventos de intención no determinada\n",
       "115        101  Complicaciones de la atención médica y quirúrgica\n",
       "116        102        Otras causas externas y sus efectos tardíos\n",
       "\n",
       "[117 rows x 2 columns]"
      ]
     },
     "execution_count": 4,
     "metadata": {},
     "output_type": "execute_result"
    }
   ],
   "source": [
    "# we need also to create a causes table for the analysis\n",
    "\n",
    "causes_table = deaths[['cause_code', 'cause_name']].drop_duplicates().sort_values(by='cause_code').reset_index(drop=True)\n",
    "\n",
    "causes_table"
   ]
  },
  {
   "cell_type": "code",
   "execution_count": 5,
   "metadata": {},
   "outputs": [
    {
     "data": {
      "text/plain": [
       "array(['Todas las edades', 'Menos de 1 año', 'De 1 a 4 años',\n",
       "       'De 5 a 9 años', 'De 10 a 14 años  ', 'De 15 a 19 años  ',\n",
       "       'De 20 a 24 años', 'De 25 a 29 años', 'De 30 a 34 años',\n",
       "       'De 35 a 39 años', 'De 40 a 44 años', 'De 45 a 49 años',\n",
       "       'De 50 a 54 años', 'De 55 a 59 años', 'De 60 a 64 años',\n",
       "       'De 65 a 69 años', 'De 70 a 74 años  ', 'De 75 a 79 años  ',\n",
       "       'De 80 a 84 años  ', 'De 85 a 89 años  ', 'De 90 a 94 años  ',\n",
       "       '95 y más años'], dtype=object)"
      ]
     },
     "execution_count": 5,
     "metadata": {},
     "output_type": "execute_result"
    }
   ],
   "source": [
    "# And some space for free-style Pandas!!! (e.g.: df['column_name'].unique())\n",
    "\n",
    "deaths['Edad'].unique()"
   ]
  },
  {
   "cell_type": "code",
   "execution_count": 6,
   "metadata": {},
   "outputs": [
    {
     "data": {
      "text/plain": [
       "array([2018, 2017, 2016, 2015, 2014, 2013, 2012, 2011, 2010, 2009, 2008,\n",
       "       2007, 2006, 2005, 2004, 2003, 2002, 2001, 2000, 1999, 1998, 1997,\n",
       "       1996, 1995, 1994, 1993, 1992, 1991, 1990, 1989, 1988, 1987, 1986,\n",
       "       1985, 1984, 1983, 1982, 1981, 1980])"
      ]
     },
     "execution_count": 6,
     "metadata": {},
     "output_type": "execute_result"
    }
   ],
   "source": [
    "deaths['Periodo'].unique()"
   ]
  },
  {
   "cell_type": "markdown",
   "metadata": {},
   "source": [
    "## Lets make some transformations\n",
    "\n",
    "Eventhough the dataset is pretty clean, the information is completely denormalized as you could see. For that matter a collection of methods (functions) are available in order to generate the tables you might need:\n",
    "\n",
    "- `row_filter(df, cat_var, cat_values)` => Filter rows by any value or group of values in a categorical variable.\n",
    "\n",
    "- `nrow_filter(df, cat_var, cat_values)` => The same but backwards. \n",
    "\n",
    "- `groupby_sum(df, group_vars, agg_var='Total', sort_var='Total')` => Add deaths by a certain variable.\n",
    "\n",
    "- `pivot_table(df, col, x_axis, value='Total')`=> Make some pivot tables, you might need them...\n",
    "\n",
    "__NOTE:__ be aware that the filtering methods can perform a filter at a time. Feel free to perform the filter you need in any way you want or feel confortable with."
   ]
  },
  {
   "cell_type": "code",
   "execution_count": 7,
   "metadata": {},
   "outputs": [
    {
     "data": {
      "text/html": [
       "<div>\n",
       "<style scoped>\n",
       "    .dataframe tbody tr th:only-of-type {\n",
       "        vertical-align: middle;\n",
       "    }\n",
       "\n",
       "    .dataframe tbody tr th {\n",
       "        vertical-align: top;\n",
       "    }\n",
       "\n",
       "    .dataframe thead th {\n",
       "        text-align: right;\n",
       "    }\n",
       "</style>\n",
       "<table border=\"1\" class=\"dataframe\">\n",
       "  <thead>\n",
       "    <tr style=\"text-align: right;\">\n",
       "      <th></th>\n",
       "      <th>Causa de muerte</th>\n",
       "      <th>Sexo</th>\n",
       "      <th>Edad</th>\n",
       "      <th>Periodo</th>\n",
       "      <th>Total</th>\n",
       "      <th>cause_code</th>\n",
       "      <th>cause_group</th>\n",
       "      <th>cause_name</th>\n",
       "    </tr>\n",
       "  </thead>\n",
       "  <tbody>\n",
       "    <tr>\n",
       "      <th>0</th>\n",
       "      <td>001-102  I-XXII.Todas las causas</td>\n",
       "      <td>Total</td>\n",
       "      <td>Todas las edades</td>\n",
       "      <td>2018</td>\n",
       "      <td>427721</td>\n",
       "      <td>001-102</td>\n",
       "      <td>Multiple causes</td>\n",
       "      <td>I-XXII.Todas las causas</td>\n",
       "    </tr>\n",
       "    <tr>\n",
       "      <th>1</th>\n",
       "      <td>001-102  I-XXII.Todas las causas</td>\n",
       "      <td>Total</td>\n",
       "      <td>Todas las edades</td>\n",
       "      <td>2017</td>\n",
       "      <td>424523</td>\n",
       "      <td>001-102</td>\n",
       "      <td>Multiple causes</td>\n",
       "      <td>I-XXII.Todas las causas</td>\n",
       "    </tr>\n",
       "    <tr>\n",
       "      <th>2</th>\n",
       "      <td>001-102  I-XXII.Todas las causas</td>\n",
       "      <td>Total</td>\n",
       "      <td>Todas las edades</td>\n",
       "      <td>2015</td>\n",
       "      <td>422568</td>\n",
       "      <td>001-102</td>\n",
       "      <td>Multiple causes</td>\n",
       "      <td>I-XXII.Todas las causas</td>\n",
       "    </tr>\n",
       "    <tr>\n",
       "      <th>3</th>\n",
       "      <td>001-102  I-XXII.Todas las causas</td>\n",
       "      <td>Total</td>\n",
       "      <td>Todas las edades</td>\n",
       "      <td>2016</td>\n",
       "      <td>410611</td>\n",
       "      <td>001-102</td>\n",
       "      <td>Multiple causes</td>\n",
       "      <td>I-XXII.Todas las causas</td>\n",
       "    </tr>\n",
       "    <tr>\n",
       "      <th>4</th>\n",
       "      <td>001-102  I-XXII.Todas las causas</td>\n",
       "      <td>Total</td>\n",
       "      <td>Todas las edades</td>\n",
       "      <td>2012</td>\n",
       "      <td>402950</td>\n",
       "      <td>001-102</td>\n",
       "      <td>Multiple causes</td>\n",
       "      <td>I-XXII.Todas las causas</td>\n",
       "    </tr>\n",
       "  </tbody>\n",
       "</table>\n",
       "</div>"
      ],
      "text/plain": [
       "                    Causa de muerte   Sexo              Edad  Periodo   Total  \\\n",
       "0  001-102  I-XXII.Todas las causas  Total  Todas las edades     2018  427721   \n",
       "1  001-102  I-XXII.Todas las causas  Total  Todas las edades     2017  424523   \n",
       "2  001-102  I-XXII.Todas las causas  Total  Todas las edades     2015  422568   \n",
       "3  001-102  I-XXII.Todas las causas  Total  Todas las edades     2016  410611   \n",
       "4  001-102  I-XXII.Todas las causas  Total  Todas las edades     2012  402950   \n",
       "\n",
       "  cause_code      cause_group               cause_name  \n",
       "0    001-102  Multiple causes  I-XXII.Todas las causas  \n",
       "1    001-102  Multiple causes  I-XXII.Todas las causas  \n",
       "2    001-102  Multiple causes  I-XXII.Todas las causas  \n",
       "3    001-102  Multiple causes  I-XXII.Todas las causas  \n",
       "4    001-102  Multiple causes  I-XXII.Todas las causas  "
      ]
     },
     "execution_count": 7,
     "metadata": {},
     "output_type": "execute_result"
    }
   ],
   "source": [
    "# Example 1\n",
    "\n",
    "dataset = mod.row_filter(deaths, 'Sexo', ['Total'])\n",
    "dataset = mod.row_filter(dataset, 'Edad', ['Todas las edades'])\n",
    "dataset.head()"
   ]
  },
  {
   "cell_type": "code",
   "execution_count": 8,
   "metadata": {},
   "outputs": [
    {
     "data": {
      "text/html": [
       "<div>\n",
       "<style scoped>\n",
       "    .dataframe tbody tr th:only-of-type {\n",
       "        vertical-align: middle;\n",
       "    }\n",
       "\n",
       "    .dataframe tbody tr th {\n",
       "        vertical-align: top;\n",
       "    }\n",
       "\n",
       "    .dataframe thead th {\n",
       "        text-align: right;\n",
       "    }\n",
       "</style>\n",
       "<table border=\"1\" class=\"dataframe\">\n",
       "  <thead>\n",
       "    <tr style=\"text-align: right;\">\n",
       "      <th></th>\n",
       "      <th>cause_code</th>\n",
       "      <th>Periodo</th>\n",
       "      <th>Total</th>\n",
       "    </tr>\n",
       "  </thead>\n",
       "  <tbody>\n",
       "    <tr>\n",
       "      <th>0</th>\n",
       "      <td>001-102</td>\n",
       "      <td>2018</td>\n",
       "      <td>1710884</td>\n",
       "    </tr>\n",
       "    <tr>\n",
       "      <th>1</th>\n",
       "      <td>001-102</td>\n",
       "      <td>2017</td>\n",
       "      <td>1698092</td>\n",
       "    </tr>\n",
       "    <tr>\n",
       "      <th>2</th>\n",
       "      <td>001-102</td>\n",
       "      <td>2015</td>\n",
       "      <td>1690272</td>\n",
       "    </tr>\n",
       "    <tr>\n",
       "      <th>3</th>\n",
       "      <td>001-102</td>\n",
       "      <td>2016</td>\n",
       "      <td>1642444</td>\n",
       "    </tr>\n",
       "    <tr>\n",
       "      <th>4</th>\n",
       "      <td>001-102</td>\n",
       "      <td>2012</td>\n",
       "      <td>1611800</td>\n",
       "    </tr>\n",
       "  </tbody>\n",
       "</table>\n",
       "</div>"
      ],
      "text/plain": [
       "  cause_code  Periodo    Total\n",
       "0    001-102     2018  1710884\n",
       "1    001-102     2017  1698092\n",
       "2    001-102     2015  1690272\n",
       "3    001-102     2016  1642444\n",
       "4    001-102     2012  1611800"
      ]
     },
     "execution_count": 8,
     "metadata": {},
     "output_type": "execute_result"
    }
   ],
   "source": [
    "# Example 2\n",
    "\n",
    "group = ['cause_code','Periodo']\n",
    "dataset2 = mod.groupby_sum(deaths, group)\n",
    "dataset2.head()\n"
   ]
  },
  {
   "cell_type": "code",
   "execution_count": 9,
   "metadata": {},
   "outputs": [
    {
     "data": {
      "text/html": [
       "<div>\n",
       "<style scoped>\n",
       "    .dataframe tbody tr th:only-of-type {\n",
       "        vertical-align: middle;\n",
       "    }\n",
       "\n",
       "    .dataframe tbody tr th {\n",
       "        vertical-align: top;\n",
       "    }\n",
       "\n",
       "    .dataframe thead th {\n",
       "        text-align: right;\n",
       "    }\n",
       "</style>\n",
       "<table border=\"1\" class=\"dataframe\">\n",
       "  <thead>\n",
       "    <tr style=\"text-align: right;\">\n",
       "      <th>cause_code</th>\n",
       "      <th>Periodo</th>\n",
       "      <th>001</th>\n",
       "      <th>001-008</th>\n",
       "      <th>001-102</th>\n",
       "      <th>002</th>\n",
       "      <th>003</th>\n",
       "      <th>004</th>\n",
       "      <th>005</th>\n",
       "      <th>006</th>\n",
       "      <th>007</th>\n",
       "      <th>...</th>\n",
       "      <th>093</th>\n",
       "      <th>094</th>\n",
       "      <th>095</th>\n",
       "      <th>096</th>\n",
       "      <th>097</th>\n",
       "      <th>098</th>\n",
       "      <th>099</th>\n",
       "      <th>100</th>\n",
       "      <th>101</th>\n",
       "      <th>102</th>\n",
       "    </tr>\n",
       "  </thead>\n",
       "  <tbody>\n",
       "    <tr>\n",
       "      <th>0</th>\n",
       "      <td>1980</td>\n",
       "      <td>405</td>\n",
       "      <td>3942</td>\n",
       "      <td>289344</td>\n",
       "      <td>1476</td>\n",
       "      <td>502</td>\n",
       "      <td>862</td>\n",
       "      <td>109</td>\n",
       "      <td>0</td>\n",
       "      <td>0</td>\n",
       "      <td>...</td>\n",
       "      <td>1239</td>\n",
       "      <td>358</td>\n",
       "      <td>46</td>\n",
       "      <td>173</td>\n",
       "      <td>4187</td>\n",
       "      <td>1652</td>\n",
       "      <td>374</td>\n",
       "      <td>7</td>\n",
       "      <td>242</td>\n",
       "      <td>24</td>\n",
       "    </tr>\n",
       "    <tr>\n",
       "      <th>1</th>\n",
       "      <td>1981</td>\n",
       "      <td>351</td>\n",
       "      <td>3781</td>\n",
       "      <td>293386</td>\n",
       "      <td>1583</td>\n",
       "      <td>414</td>\n",
       "      <td>836</td>\n",
       "      <td>87</td>\n",
       "      <td>0</td>\n",
       "      <td>0</td>\n",
       "      <td>...</td>\n",
       "      <td>1175</td>\n",
       "      <td>300</td>\n",
       "      <td>39</td>\n",
       "      <td>349</td>\n",
       "      <td>4368</td>\n",
       "      <td>1718</td>\n",
       "      <td>321</td>\n",
       "      <td>84</td>\n",
       "      <td>227</td>\n",
       "      <td>52</td>\n",
       "    </tr>\n",
       "    <tr>\n",
       "      <th>2</th>\n",
       "      <td>1982</td>\n",
       "      <td>327</td>\n",
       "      <td>3372</td>\n",
       "      <td>286655</td>\n",
       "      <td>1338</td>\n",
       "      <td>310</td>\n",
       "      <td>776</td>\n",
       "      <td>79</td>\n",
       "      <td>0</td>\n",
       "      <td>0</td>\n",
       "      <td>...</td>\n",
       "      <td>1216</td>\n",
       "      <td>239</td>\n",
       "      <td>50</td>\n",
       "      <td>250</td>\n",
       "      <td>4654</td>\n",
       "      <td>1851</td>\n",
       "      <td>307</td>\n",
       "      <td>110</td>\n",
       "      <td>283</td>\n",
       "      <td>13</td>\n",
       "    </tr>\n",
       "    <tr>\n",
       "      <th>3</th>\n",
       "      <td>1983</td>\n",
       "      <td>303</td>\n",
       "      <td>3275</td>\n",
       "      <td>302569</td>\n",
       "      <td>1288</td>\n",
       "      <td>268</td>\n",
       "      <td>788</td>\n",
       "      <td>84</td>\n",
       "      <td>0</td>\n",
       "      <td>0</td>\n",
       "      <td>...</td>\n",
       "      <td>1197</td>\n",
       "      <td>366</td>\n",
       "      <td>37</td>\n",
       "      <td>221</td>\n",
       "      <td>4598</td>\n",
       "      <td>2181</td>\n",
       "      <td>390</td>\n",
       "      <td>319</td>\n",
       "      <td>375</td>\n",
       "      <td>14</td>\n",
       "    </tr>\n",
       "    <tr>\n",
       "      <th>4</th>\n",
       "      <td>1984</td>\n",
       "      <td>307</td>\n",
       "      <td>3232</td>\n",
       "      <td>299409</td>\n",
       "      <td>1141</td>\n",
       "      <td>241</td>\n",
       "      <td>926</td>\n",
       "      <td>106</td>\n",
       "      <td>0</td>\n",
       "      <td>0</td>\n",
       "      <td>...</td>\n",
       "      <td>1179</td>\n",
       "      <td>311</td>\n",
       "      <td>41</td>\n",
       "      <td>255</td>\n",
       "      <td>3674</td>\n",
       "      <td>2493</td>\n",
       "      <td>453</td>\n",
       "      <td>286</td>\n",
       "      <td>409</td>\n",
       "      <td>19</td>\n",
       "    </tr>\n",
       "  </tbody>\n",
       "</table>\n",
       "<p>5 rows × 118 columns</p>\n",
       "</div>"
      ],
      "text/plain": [
       "cause_code  Periodo  001  001-008  001-102   002  003  004  005  006  007  \\\n",
       "0              1980  405     3942   289344  1476  502  862  109    0    0   \n",
       "1              1981  351     3781   293386  1583  414  836   87    0    0   \n",
       "2              1982  327     3372   286655  1338  310  776   79    0    0   \n",
       "3              1983  303     3275   302569  1288  268  788   84    0    0   \n",
       "4              1984  307     3232   299409  1141  241  926  106    0    0   \n",
       "\n",
       "cause_code  ...   093  094  095  096   097   098  099  100  101  102  \n",
       "0           ...  1239  358   46  173  4187  1652  374    7  242   24  \n",
       "1           ...  1175  300   39  349  4368  1718  321   84  227   52  \n",
       "2           ...  1216  239   50  250  4654  1851  307  110  283   13  \n",
       "3           ...  1197  366   37  221  4598  2181  390  319  375   14  \n",
       "4           ...  1179  311   41  255  3674  2493  453  286  409   19  \n",
       "\n",
       "[5 rows x 118 columns]"
      ]
     },
     "execution_count": 9,
     "metadata": {},
     "output_type": "execute_result"
    }
   ],
   "source": [
    "# Example 3\n",
    "\n",
    "dataset3 = mod.pivot_table(dataset, 'cause_code', 'Periodo')\n",
    "dataset3.head()"
   ]
  },
  {
   "cell_type": "markdown",
   "metadata": {},
   "source": [
    "## ...and finally, show me some insights with Plotly!!!"
   ]
  },
  {
   "cell_type": "code",
   "execution_count": 15,
   "metadata": {},
   "outputs": [
    {
     "data": {
      "text/plain": [
       "0                             I-XXII.Todas las causas\n",
       "1                             I-XXII.Todas las causas\n",
       "2                             I-XXII.Todas las causas\n",
       "3                             I-XXII.Todas las causas\n",
       "4                             I-XXII.Todas las causas\n",
       "                             ...                     \n",
       "301153    Otras causas externas y sus efectos tardíos\n",
       "301154    Otras causas externas y sus efectos tardíos\n",
       "301155    Otras causas externas y sus efectos tardíos\n",
       "301156    Otras causas externas y sus efectos tardíos\n",
       "301157    Otras causas externas y sus efectos tardíos\n",
       "Name: cause_name, Length: 301158, dtype: object"
      ]
     },
     "execution_count": 15,
     "metadata": {},
     "output_type": "execute_result"
    }
   ],
   "source": [
    "dataset_column = deaths['cause_name']\n",
    "dataset_column"
   ]
  },
  {
   "cell_type": "code",
   "execution_count": 16,
   "metadata": {},
   "outputs": [
    {
     "data": {
      "text/plain": [
       "array(['Todas las edades', 'Menos de 1 año', 'De 1 a 4 años',\n",
       "       'De 5 a 9 años', 'De 10 a 14 años  ', 'De 15 a 19 años  ',\n",
       "       'De 20 a 24 años', 'De 25 a 29 años', 'De 30 a 34 años',\n",
       "       'De 35 a 39 años', 'De 40 a 44 años', 'De 45 a 49 años',\n",
       "       'De 50 a 54 años', 'De 55 a 59 años', 'De 60 a 64 años',\n",
       "       'De 65 a 69 años', 'De 70 a 74 años  ', 'De 75 a 79 años  ',\n",
       "       'De 80 a 84 años  ', 'De 85 a 89 años  ', 'De 90 a 94 años  ',\n",
       "       '95 y más años'], dtype=object)"
      ]
     },
     "execution_count": 16,
     "metadata": {},
     "output_type": "execute_result"
    }
   ],
   "source": [
    "deaths['Edad'].unique()"
   ]
  },
  {
   "cell_type": "code",
   "execution_count": 17,
   "metadata": {},
   "outputs": [
    {
     "data": {
      "text/html": [
       "<div>\n",
       "<style scoped>\n",
       "    .dataframe tbody tr th:only-of-type {\n",
       "        vertical-align: middle;\n",
       "    }\n",
       "\n",
       "    .dataframe tbody tr th {\n",
       "        vertical-align: top;\n",
       "    }\n",
       "\n",
       "    .dataframe thead th {\n",
       "        text-align: right;\n",
       "    }\n",
       "</style>\n",
       "<table border=\"1\" class=\"dataframe\">\n",
       "  <thead>\n",
       "    <tr style=\"text-align: right;\">\n",
       "      <th></th>\n",
       "      <th>Causa de muerte</th>\n",
       "      <th>Sexo</th>\n",
       "      <th>Edad</th>\n",
       "      <th>Periodo</th>\n",
       "      <th>Total</th>\n",
       "    </tr>\n",
       "  </thead>\n",
       "  <tbody>\n",
       "    <tr>\n",
       "      <th>0</th>\n",
       "      <td>001-102  I-XXII.Todas las causas</td>\n",
       "      <td>Total</td>\n",
       "      <td>Todas las edades</td>\n",
       "      <td>2018</td>\n",
       "      <td>427721</td>\n",
       "    </tr>\n",
       "    <tr>\n",
       "      <th>1</th>\n",
       "      <td>001-102  I-XXII.Todas las causas</td>\n",
       "      <td>Total</td>\n",
       "      <td>Todas las edades</td>\n",
       "      <td>2017</td>\n",
       "      <td>424523</td>\n",
       "    </tr>\n",
       "    <tr>\n",
       "      <th>2</th>\n",
       "      <td>001-102  I-XXII.Todas las causas</td>\n",
       "      <td>Total</td>\n",
       "      <td>Todas las edades</td>\n",
       "      <td>2016</td>\n",
       "      <td>410611</td>\n",
       "    </tr>\n",
       "    <tr>\n",
       "      <th>3</th>\n",
       "      <td>001-102  I-XXII.Todas las causas</td>\n",
       "      <td>Total</td>\n",
       "      <td>Todas las edades</td>\n",
       "      <td>2015</td>\n",
       "      <td>422568</td>\n",
       "    </tr>\n",
       "    <tr>\n",
       "      <th>4</th>\n",
       "      <td>001-102  I-XXII.Todas las causas</td>\n",
       "      <td>Total</td>\n",
       "      <td>Todas las edades</td>\n",
       "      <td>2014</td>\n",
       "      <td>395830</td>\n",
       "    </tr>\n",
       "    <tr>\n",
       "      <th>...</th>\n",
       "      <td>...</td>\n",
       "      <td>...</td>\n",
       "      <td>...</td>\n",
       "      <td>...</td>\n",
       "      <td>...</td>\n",
       "    </tr>\n",
       "    <tr>\n",
       "      <th>301153</th>\n",
       "      <td>102  Otras causas externas y sus efectos tardíos</td>\n",
       "      <td>Mujeres</td>\n",
       "      <td>95 y más años</td>\n",
       "      <td>1984</td>\n",
       "      <td>0</td>\n",
       "    </tr>\n",
       "    <tr>\n",
       "      <th>301154</th>\n",
       "      <td>102  Otras causas externas y sus efectos tardíos</td>\n",
       "      <td>Mujeres</td>\n",
       "      <td>95 y más años</td>\n",
       "      <td>1983</td>\n",
       "      <td>0</td>\n",
       "    </tr>\n",
       "    <tr>\n",
       "      <th>301155</th>\n",
       "      <td>102  Otras causas externas y sus efectos tardíos</td>\n",
       "      <td>Mujeres</td>\n",
       "      <td>95 y más años</td>\n",
       "      <td>1982</td>\n",
       "      <td>0</td>\n",
       "    </tr>\n",
       "    <tr>\n",
       "      <th>301156</th>\n",
       "      <td>102  Otras causas externas y sus efectos tardíos</td>\n",
       "      <td>Mujeres</td>\n",
       "      <td>95 y más años</td>\n",
       "      <td>1981</td>\n",
       "      <td>0</td>\n",
       "    </tr>\n",
       "    <tr>\n",
       "      <th>301157</th>\n",
       "      <td>102  Otras causas externas y sus efectos tardíos</td>\n",
       "      <td>Mujeres</td>\n",
       "      <td>95 y más años</td>\n",
       "      <td>1980</td>\n",
       "      <td>0</td>\n",
       "    </tr>\n",
       "  </tbody>\n",
       "</table>\n",
       "<p>301158 rows × 5 columns</p>\n",
       "</div>"
      ],
      "text/plain": [
       "                                         Causa de muerte     Sexo  \\\n",
       "0                       001-102  I-XXII.Todas las causas    Total   \n",
       "1                       001-102  I-XXII.Todas las causas    Total   \n",
       "2                       001-102  I-XXII.Todas las causas    Total   \n",
       "3                       001-102  I-XXII.Todas las causas    Total   \n",
       "4                       001-102  I-XXII.Todas las causas    Total   \n",
       "...                                                  ...      ...   \n",
       "301153  102  Otras causas externas y sus efectos tardíos  Mujeres   \n",
       "301154  102  Otras causas externas y sus efectos tardíos  Mujeres   \n",
       "301155  102  Otras causas externas y sus efectos tardíos  Mujeres   \n",
       "301156  102  Otras causas externas y sus efectos tardíos  Mujeres   \n",
       "301157  102  Otras causas externas y sus efectos tardíos  Mujeres   \n",
       "\n",
       "                    Edad  Periodo   Total  \n",
       "0       Todas las edades     2018  427721  \n",
       "1       Todas las edades     2017  424523  \n",
       "2       Todas las edades     2016  410611  \n",
       "3       Todas las edades     2015  422568  \n",
       "4       Todas las edades     2014  395830  \n",
       "...                  ...      ...     ...  \n",
       "301153     95 y más años     1984       0  \n",
       "301154     95 y más años     1983       0  \n",
       "301155     95 y más años     1982       0  \n",
       "301156     95 y más años     1981       0  \n",
       "301157     95 y más años     1980       0  \n",
       "\n",
       "[301158 rows x 5 columns]"
      ]
     },
     "execution_count": 17,
     "metadata": {},
     "output_type": "execute_result"
    }
   ],
   "source": [
    "deaths = deaths[['Causa de muerte', 'Sexo', 'Edad', 'Periodo', 'Total']]\n",
    "deaths"
   ]
  },
  {
   "cell_type": "code",
   "execution_count": 18,
   "metadata": {},
   "outputs": [
    {
     "data": {
      "text/html": [
       "<div>\n",
       "<style scoped>\n",
       "    .dataframe tbody tr th:only-of-type {\n",
       "        vertical-align: middle;\n",
       "    }\n",
       "\n",
       "    .dataframe tbody tr th {\n",
       "        vertical-align: top;\n",
       "    }\n",
       "\n",
       "    .dataframe thead th {\n",
       "        text-align: right;\n",
       "    }\n",
       "</style>\n",
       "<table border=\"1\" class=\"dataframe\">\n",
       "  <thead>\n",
       "    <tr style=\"text-align: right;\">\n",
       "      <th></th>\n",
       "      <th>Causa de muerte</th>\n",
       "      <th>Sexo</th>\n",
       "      <th>Edad</th>\n",
       "      <th>Periodo</th>\n",
       "      <th>Total</th>\n",
       "    </tr>\n",
       "  </thead>\n",
       "  <tbody>\n",
       "    <tr>\n",
       "      <th>819</th>\n",
       "      <td>001-102  I-XXII.Todas las causas</td>\n",
       "      <td>Total</td>\n",
       "      <td>95 y más años</td>\n",
       "      <td>2018</td>\n",
       "      <td>33933</td>\n",
       "    </tr>\n",
       "    <tr>\n",
       "      <th>820</th>\n",
       "      <td>001-102  I-XXII.Todas las causas</td>\n",
       "      <td>Total</td>\n",
       "      <td>95 y más años</td>\n",
       "      <td>2017</td>\n",
       "      <td>32302</td>\n",
       "    </tr>\n",
       "    <tr>\n",
       "      <th>821</th>\n",
       "      <td>001-102  I-XXII.Todas las causas</td>\n",
       "      <td>Total</td>\n",
       "      <td>95 y más años</td>\n",
       "      <td>2016</td>\n",
       "      <td>28485</td>\n",
       "    </tr>\n",
       "    <tr>\n",
       "      <th>822</th>\n",
       "      <td>001-102  I-XXII.Todas las causas</td>\n",
       "      <td>Total</td>\n",
       "      <td>95 y más años</td>\n",
       "      <td>2015</td>\n",
       "      <td>28716</td>\n",
       "    </tr>\n",
       "    <tr>\n",
       "      <th>823</th>\n",
       "      <td>001-102  I-XXII.Todas las causas</td>\n",
       "      <td>Total</td>\n",
       "      <td>95 y más años</td>\n",
       "      <td>2014</td>\n",
       "      <td>24763</td>\n",
       "    </tr>\n",
       "    <tr>\n",
       "      <th>...</th>\n",
       "      <td>...</td>\n",
       "      <td>...</td>\n",
       "      <td>...</td>\n",
       "      <td>...</td>\n",
       "      <td>...</td>\n",
       "    </tr>\n",
       "    <tr>\n",
       "      <th>301153</th>\n",
       "      <td>102  Otras causas externas y sus efectos tardíos</td>\n",
       "      <td>Mujeres</td>\n",
       "      <td>95 y más años</td>\n",
       "      <td>1984</td>\n",
       "      <td>0</td>\n",
       "    </tr>\n",
       "    <tr>\n",
       "      <th>301154</th>\n",
       "      <td>102  Otras causas externas y sus efectos tardíos</td>\n",
       "      <td>Mujeres</td>\n",
       "      <td>95 y más años</td>\n",
       "      <td>1983</td>\n",
       "      <td>0</td>\n",
       "    </tr>\n",
       "    <tr>\n",
       "      <th>301155</th>\n",
       "      <td>102  Otras causas externas y sus efectos tardíos</td>\n",
       "      <td>Mujeres</td>\n",
       "      <td>95 y más años</td>\n",
       "      <td>1982</td>\n",
       "      <td>0</td>\n",
       "    </tr>\n",
       "    <tr>\n",
       "      <th>301156</th>\n",
       "      <td>102  Otras causas externas y sus efectos tardíos</td>\n",
       "      <td>Mujeres</td>\n",
       "      <td>95 y más años</td>\n",
       "      <td>1981</td>\n",
       "      <td>0</td>\n",
       "    </tr>\n",
       "    <tr>\n",
       "      <th>301157</th>\n",
       "      <td>102  Otras causas externas y sus efectos tardíos</td>\n",
       "      <td>Mujeres</td>\n",
       "      <td>95 y más años</td>\n",
       "      <td>1980</td>\n",
       "      <td>0</td>\n",
       "    </tr>\n",
       "  </tbody>\n",
       "</table>\n",
       "<p>13689 rows × 5 columns</p>\n",
       "</div>"
      ],
      "text/plain": [
       "                                         Causa de muerte     Sexo  \\\n",
       "819                     001-102  I-XXII.Todas las causas    Total   \n",
       "820                     001-102  I-XXII.Todas las causas    Total   \n",
       "821                     001-102  I-XXII.Todas las causas    Total   \n",
       "822                     001-102  I-XXII.Todas las causas    Total   \n",
       "823                     001-102  I-XXII.Todas las causas    Total   \n",
       "...                                                  ...      ...   \n",
       "301153  102  Otras causas externas y sus efectos tardíos  Mujeres   \n",
       "301154  102  Otras causas externas y sus efectos tardíos  Mujeres   \n",
       "301155  102  Otras causas externas y sus efectos tardíos  Mujeres   \n",
       "301156  102  Otras causas externas y sus efectos tardíos  Mujeres   \n",
       "301157  102  Otras causas externas y sus efectos tardíos  Mujeres   \n",
       "\n",
       "                 Edad  Periodo  Total  \n",
       "819     95 y más años     2018  33933  \n",
       "820     95 y más años     2017  32302  \n",
       "821     95 y más años     2016  28485  \n",
       "822     95 y más años     2015  28716  \n",
       "823     95 y más años     2014  24763  \n",
       "...               ...      ...    ...  \n",
       "301153  95 y más años     1984      0  \n",
       "301154  95 y más años     1983      0  \n",
       "301155  95 y más años     1982      0  \n",
       "301156  95 y más años     1981      0  \n",
       "301157  95 y más años     1980      0  \n",
       "\n",
       "[13689 rows x 5 columns]"
      ]
     },
     "execution_count": 18,
     "metadata": {},
     "output_type": "execute_result"
    }
   ],
   "source": [
    "rango_edades = ['95 y más años']\n",
    "deaths = deaths[deaths['Edad'].isin(rango_edades)]\n",
    "\n",
    "deaths"
   ]
  },
  {
   "cell_type": "code",
   "execution_count": null,
   "metadata": {},
   "outputs": [],
   "source": [
    "# Cufflinks histogram\n",
    "'''\n",
    "dataset_column.iplot(kind='hist',\n",
    "                     title='VIZ TITLE',\n",
    "                     yTitle='AXIS TITLE',\n",
    "                     xTitle='AXIS TITLE')\n",
    "'''"
   ]
  },
  {
   "cell_type": "code",
   "execution_count": 20,
   "metadata": {},
   "outputs": [
    {
     "data": {
      "application/vnd.plotly.v1+json": {
       "config": {
        "linkText": "Export to plot.ly",
        "plotlyServerURL": "https://plot.ly",
        "showLink": true
       },
       "data": [
        {
         "marker": {
          "color": "rgba(255, 153, 51, 0.6)",
          "line": {
           "color": "rgba(255, 153, 51, 1.0)",
           "width": 1
          }
         },
         "name": "001",
         "orientation": "v",
         "text": "",
         "type": "bar",
         "x": [
          1980,
          1981,
          1982,
          1983,
          1984,
          1985,
          1986,
          1987,
          1988,
          1989,
          1990,
          1991,
          1992,
          1993,
          1994,
          1995,
          1996,
          1997,
          1998,
          1999,
          2000,
          2001,
          2002,
          2003,
          2004,
          2005,
          2006,
          2007,
          2008,
          2009,
          2010,
          2011,
          2012,
          2013,
          2014,
          2015,
          2016,
          2017,
          2018
         ],
         "y": [
          405,
          351,
          327,
          303,
          307,
          264,
          280,
          252,
          239,
          222,
          216,
          169,
          168,
          191,
          232,
          243,
          213,
          217,
          250,
          267,
          320,
          316,
          358,
          408,
          422,
          431,
          442,
          509,
          484,
          500,
          768,
          723,
          838,
          801,
          753,
          895,
          946,
          955,
          1037
         ]
        }
       ],
       "layout": {
        "legend": {
         "bgcolor": "#F5F6F9",
         "font": {
          "color": "#4D5663"
         }
        },
        "paper_bgcolor": "#F5F6F9",
        "plot_bgcolor": "#F5F6F9",
        "template": {
         "data": {
          "bar": [
           {
            "error_x": {
             "color": "#2a3f5f"
            },
            "error_y": {
             "color": "#2a3f5f"
            },
            "marker": {
             "line": {
              "color": "#E5ECF6",
              "width": 0.5
             },
             "pattern": {
              "fillmode": "overlay",
              "size": 10,
              "solidity": 0.2
             }
            },
            "type": "bar"
           }
          ],
          "barpolar": [
           {
            "marker": {
             "line": {
              "color": "#E5ECF6",
              "width": 0.5
             },
             "pattern": {
              "fillmode": "overlay",
              "size": 10,
              "solidity": 0.2
             }
            },
            "type": "barpolar"
           }
          ],
          "carpet": [
           {
            "aaxis": {
             "endlinecolor": "#2a3f5f",
             "gridcolor": "white",
             "linecolor": "white",
             "minorgridcolor": "white",
             "startlinecolor": "#2a3f5f"
            },
            "baxis": {
             "endlinecolor": "#2a3f5f",
             "gridcolor": "white",
             "linecolor": "white",
             "minorgridcolor": "white",
             "startlinecolor": "#2a3f5f"
            },
            "type": "carpet"
           }
          ],
          "choropleth": [
           {
            "colorbar": {
             "outlinewidth": 0,
             "ticks": ""
            },
            "type": "choropleth"
           }
          ],
          "contour": [
           {
            "colorbar": {
             "outlinewidth": 0,
             "ticks": ""
            },
            "colorscale": [
             [
              0,
              "#0d0887"
             ],
             [
              0.1111111111111111,
              "#46039f"
             ],
             [
              0.2222222222222222,
              "#7201a8"
             ],
             [
              0.3333333333333333,
              "#9c179e"
             ],
             [
              0.4444444444444444,
              "#bd3786"
             ],
             [
              0.5555555555555556,
              "#d8576b"
             ],
             [
              0.6666666666666666,
              "#ed7953"
             ],
             [
              0.7777777777777778,
              "#fb9f3a"
             ],
             [
              0.8888888888888888,
              "#fdca26"
             ],
             [
              1,
              "#f0f921"
             ]
            ],
            "type": "contour"
           }
          ],
          "contourcarpet": [
           {
            "colorbar": {
             "outlinewidth": 0,
             "ticks": ""
            },
            "type": "contourcarpet"
           }
          ],
          "heatmap": [
           {
            "colorbar": {
             "outlinewidth": 0,
             "ticks": ""
            },
            "colorscale": [
             [
              0,
              "#0d0887"
             ],
             [
              0.1111111111111111,
              "#46039f"
             ],
             [
              0.2222222222222222,
              "#7201a8"
             ],
             [
              0.3333333333333333,
              "#9c179e"
             ],
             [
              0.4444444444444444,
              "#bd3786"
             ],
             [
              0.5555555555555556,
              "#d8576b"
             ],
             [
              0.6666666666666666,
              "#ed7953"
             ],
             [
              0.7777777777777778,
              "#fb9f3a"
             ],
             [
              0.8888888888888888,
              "#fdca26"
             ],
             [
              1,
              "#f0f921"
             ]
            ],
            "type": "heatmap"
           }
          ],
          "heatmapgl": [
           {
            "colorbar": {
             "outlinewidth": 0,
             "ticks": ""
            },
            "colorscale": [
             [
              0,
              "#0d0887"
             ],
             [
              0.1111111111111111,
              "#46039f"
             ],
             [
              0.2222222222222222,
              "#7201a8"
             ],
             [
              0.3333333333333333,
              "#9c179e"
             ],
             [
              0.4444444444444444,
              "#bd3786"
             ],
             [
              0.5555555555555556,
              "#d8576b"
             ],
             [
              0.6666666666666666,
              "#ed7953"
             ],
             [
              0.7777777777777778,
              "#fb9f3a"
             ],
             [
              0.8888888888888888,
              "#fdca26"
             ],
             [
              1,
              "#f0f921"
             ]
            ],
            "type": "heatmapgl"
           }
          ],
          "histogram": [
           {
            "marker": {
             "pattern": {
              "fillmode": "overlay",
              "size": 10,
              "solidity": 0.2
             }
            },
            "type": "histogram"
           }
          ],
          "histogram2d": [
           {
            "colorbar": {
             "outlinewidth": 0,
             "ticks": ""
            },
            "colorscale": [
             [
              0,
              "#0d0887"
             ],
             [
              0.1111111111111111,
              "#46039f"
             ],
             [
              0.2222222222222222,
              "#7201a8"
             ],
             [
              0.3333333333333333,
              "#9c179e"
             ],
             [
              0.4444444444444444,
              "#bd3786"
             ],
             [
              0.5555555555555556,
              "#d8576b"
             ],
             [
              0.6666666666666666,
              "#ed7953"
             ],
             [
              0.7777777777777778,
              "#fb9f3a"
             ],
             [
              0.8888888888888888,
              "#fdca26"
             ],
             [
              1,
              "#f0f921"
             ]
            ],
            "type": "histogram2d"
           }
          ],
          "histogram2dcontour": [
           {
            "colorbar": {
             "outlinewidth": 0,
             "ticks": ""
            },
            "colorscale": [
             [
              0,
              "#0d0887"
             ],
             [
              0.1111111111111111,
              "#46039f"
             ],
             [
              0.2222222222222222,
              "#7201a8"
             ],
             [
              0.3333333333333333,
              "#9c179e"
             ],
             [
              0.4444444444444444,
              "#bd3786"
             ],
             [
              0.5555555555555556,
              "#d8576b"
             ],
             [
              0.6666666666666666,
              "#ed7953"
             ],
             [
              0.7777777777777778,
              "#fb9f3a"
             ],
             [
              0.8888888888888888,
              "#fdca26"
             ],
             [
              1,
              "#f0f921"
             ]
            ],
            "type": "histogram2dcontour"
           }
          ],
          "mesh3d": [
           {
            "colorbar": {
             "outlinewidth": 0,
             "ticks": ""
            },
            "type": "mesh3d"
           }
          ],
          "parcoords": [
           {
            "line": {
             "colorbar": {
              "outlinewidth": 0,
              "ticks": ""
             }
            },
            "type": "parcoords"
           }
          ],
          "pie": [
           {
            "automargin": true,
            "type": "pie"
           }
          ],
          "scatter": [
           {
            "fillpattern": {
             "fillmode": "overlay",
             "size": 10,
             "solidity": 0.2
            },
            "type": "scatter"
           }
          ],
          "scatter3d": [
           {
            "line": {
             "colorbar": {
              "outlinewidth": 0,
              "ticks": ""
             }
            },
            "marker": {
             "colorbar": {
              "outlinewidth": 0,
              "ticks": ""
             }
            },
            "type": "scatter3d"
           }
          ],
          "scattercarpet": [
           {
            "marker": {
             "colorbar": {
              "outlinewidth": 0,
              "ticks": ""
             }
            },
            "type": "scattercarpet"
           }
          ],
          "scattergeo": [
           {
            "marker": {
             "colorbar": {
              "outlinewidth": 0,
              "ticks": ""
             }
            },
            "type": "scattergeo"
           }
          ],
          "scattergl": [
           {
            "marker": {
             "colorbar": {
              "outlinewidth": 0,
              "ticks": ""
             }
            },
            "type": "scattergl"
           }
          ],
          "scattermapbox": [
           {
            "marker": {
             "colorbar": {
              "outlinewidth": 0,
              "ticks": ""
             }
            },
            "type": "scattermapbox"
           }
          ],
          "scatterpolar": [
           {
            "marker": {
             "colorbar": {
              "outlinewidth": 0,
              "ticks": ""
             }
            },
            "type": "scatterpolar"
           }
          ],
          "scatterpolargl": [
           {
            "marker": {
             "colorbar": {
              "outlinewidth": 0,
              "ticks": ""
             }
            },
            "type": "scatterpolargl"
           }
          ],
          "scatterternary": [
           {
            "marker": {
             "colorbar": {
              "outlinewidth": 0,
              "ticks": ""
             }
            },
            "type": "scatterternary"
           }
          ],
          "surface": [
           {
            "colorbar": {
             "outlinewidth": 0,
             "ticks": ""
            },
            "colorscale": [
             [
              0,
              "#0d0887"
             ],
             [
              0.1111111111111111,
              "#46039f"
             ],
             [
              0.2222222222222222,
              "#7201a8"
             ],
             [
              0.3333333333333333,
              "#9c179e"
             ],
             [
              0.4444444444444444,
              "#bd3786"
             ],
             [
              0.5555555555555556,
              "#d8576b"
             ],
             [
              0.6666666666666666,
              "#ed7953"
             ],
             [
              0.7777777777777778,
              "#fb9f3a"
             ],
             [
              0.8888888888888888,
              "#fdca26"
             ],
             [
              1,
              "#f0f921"
             ]
            ],
            "type": "surface"
           }
          ],
          "table": [
           {
            "cells": {
             "fill": {
              "color": "#EBF0F8"
             },
             "line": {
              "color": "white"
             }
            },
            "header": {
             "fill": {
              "color": "#C8D4E3"
             },
             "line": {
              "color": "white"
             }
            },
            "type": "table"
           }
          ]
         },
         "layout": {
          "annotationdefaults": {
           "arrowcolor": "#2a3f5f",
           "arrowhead": 0,
           "arrowwidth": 1
          },
          "autotypenumbers": "strict",
          "coloraxis": {
           "colorbar": {
            "outlinewidth": 0,
            "ticks": ""
           }
          },
          "colorscale": {
           "diverging": [
            [
             0,
             "#8e0152"
            ],
            [
             0.1,
             "#c51b7d"
            ],
            [
             0.2,
             "#de77ae"
            ],
            [
             0.3,
             "#f1b6da"
            ],
            [
             0.4,
             "#fde0ef"
            ],
            [
             0.5,
             "#f7f7f7"
            ],
            [
             0.6,
             "#e6f5d0"
            ],
            [
             0.7,
             "#b8e186"
            ],
            [
             0.8,
             "#7fbc41"
            ],
            [
             0.9,
             "#4d9221"
            ],
            [
             1,
             "#276419"
            ]
           ],
           "sequential": [
            [
             0,
             "#0d0887"
            ],
            [
             0.1111111111111111,
             "#46039f"
            ],
            [
             0.2222222222222222,
             "#7201a8"
            ],
            [
             0.3333333333333333,
             "#9c179e"
            ],
            [
             0.4444444444444444,
             "#bd3786"
            ],
            [
             0.5555555555555556,
             "#d8576b"
            ],
            [
             0.6666666666666666,
             "#ed7953"
            ],
            [
             0.7777777777777778,
             "#fb9f3a"
            ],
            [
             0.8888888888888888,
             "#fdca26"
            ],
            [
             1,
             "#f0f921"
            ]
           ],
           "sequentialminus": [
            [
             0,
             "#0d0887"
            ],
            [
             0.1111111111111111,
             "#46039f"
            ],
            [
             0.2222222222222222,
             "#7201a8"
            ],
            [
             0.3333333333333333,
             "#9c179e"
            ],
            [
             0.4444444444444444,
             "#bd3786"
            ],
            [
             0.5555555555555556,
             "#d8576b"
            ],
            [
             0.6666666666666666,
             "#ed7953"
            ],
            [
             0.7777777777777778,
             "#fb9f3a"
            ],
            [
             0.8888888888888888,
             "#fdca26"
            ],
            [
             1,
             "#f0f921"
            ]
           ]
          },
          "colorway": [
           "#636efa",
           "#EF553B",
           "#00cc96",
           "#ab63fa",
           "#FFA15A",
           "#19d3f3",
           "#FF6692",
           "#B6E880",
           "#FF97FF",
           "#FECB52"
          ],
          "font": {
           "color": "#2a3f5f"
          },
          "geo": {
           "bgcolor": "white",
           "lakecolor": "white",
           "landcolor": "#E5ECF6",
           "showlakes": true,
           "showland": true,
           "subunitcolor": "white"
          },
          "hoverlabel": {
           "align": "left"
          },
          "hovermode": "closest",
          "mapbox": {
           "style": "light"
          },
          "paper_bgcolor": "white",
          "plot_bgcolor": "#E5ECF6",
          "polar": {
           "angularaxis": {
            "gridcolor": "white",
            "linecolor": "white",
            "ticks": ""
           },
           "bgcolor": "#E5ECF6",
           "radialaxis": {
            "gridcolor": "white",
            "linecolor": "white",
            "ticks": ""
           }
          },
          "scene": {
           "xaxis": {
            "backgroundcolor": "#E5ECF6",
            "gridcolor": "white",
            "gridwidth": 2,
            "linecolor": "white",
            "showbackground": true,
            "ticks": "",
            "zerolinecolor": "white"
           },
           "yaxis": {
            "backgroundcolor": "#E5ECF6",
            "gridcolor": "white",
            "gridwidth": 2,
            "linecolor": "white",
            "showbackground": true,
            "ticks": "",
            "zerolinecolor": "white"
           },
           "zaxis": {
            "backgroundcolor": "#E5ECF6",
            "gridcolor": "white",
            "gridwidth": 2,
            "linecolor": "white",
            "showbackground": true,
            "ticks": "",
            "zerolinecolor": "white"
           }
          },
          "shapedefaults": {
           "line": {
            "color": "#2a3f5f"
           }
          },
          "ternary": {
           "aaxis": {
            "gridcolor": "white",
            "linecolor": "white",
            "ticks": ""
           },
           "baxis": {
            "gridcolor": "white",
            "linecolor": "white",
            "ticks": ""
           },
           "bgcolor": "#E5ECF6",
           "caxis": {
            "gridcolor": "white",
            "linecolor": "white",
            "ticks": ""
           }
          },
          "title": {
           "x": 0.05
          },
          "xaxis": {
           "automargin": true,
           "gridcolor": "white",
           "linecolor": "white",
           "ticks": "",
           "title": {
            "standoff": 15
           },
           "zerolinecolor": "white",
           "zerolinewidth": 2
          },
          "yaxis": {
           "automargin": true,
           "gridcolor": "white",
           "linecolor": "white",
           "ticks": "",
           "title": {
            "standoff": 15
           },
           "zerolinecolor": "white",
           "zerolinewidth": 2
          }
         }
        },
        "title": {
         "font": {
          "color": "#4D5663"
         },
         "text": "Muertes por enfermedades infecciosas intestinales"
        },
        "xaxis": {
         "gridcolor": "#E1E5ED",
         "showgrid": true,
         "tickfont": {
          "color": "#4D5663"
         },
         "title": {
          "font": {
           "color": "#4D5663"
          },
          "text": "Periodo"
         },
         "zerolinecolor": "#E1E5ED"
        },
        "yaxis": {
         "gridcolor": "#E1E5ED",
         "showgrid": true,
         "tickfont": {
          "color": "#4D5663"
         },
         "title": {
          "font": {
           "color": "#4D5663"
          },
          "text": "Nº víctimas"
         },
         "zerolinecolor": "#E1E5ED"
        }
       }
      },
      "text/html": [
       "<div>                            <div id=\"18efe63e-056a-42b2-bd2d-36a7e23b1088\" class=\"plotly-graph-div\" style=\"height:525px; width:100%;\"></div>            <script type=\"text/javascript\">                require([\"plotly\"], function(Plotly) {                    window.PLOTLYENV=window.PLOTLYENV || {};\n",
       "                    window.PLOTLYENV.BASE_URL='https://plot.ly';                                    if (document.getElementById(\"18efe63e-056a-42b2-bd2d-36a7e23b1088\")) {                    Plotly.newPlot(                        \"18efe63e-056a-42b2-bd2d-36a7e23b1088\",                        [{\"marker\":{\"color\":\"rgba(255, 153, 51, 0.6)\",\"line\":{\"color\":\"rgba(255, 153, 51, 1.0)\",\"width\":1}},\"name\":\"001\",\"orientation\":\"v\",\"text\":\"\",\"x\":[1980,1981,1982,1983,1984,1985,1986,1987,1988,1989,1990,1991,1992,1993,1994,1995,1996,1997,1998,1999,2000,2001,2002,2003,2004,2005,2006,2007,2008,2009,2010,2011,2012,2013,2014,2015,2016,2017,2018],\"y\":[405,351,327,303,307,264,280,252,239,222,216,169,168,191,232,243,213,217,250,267,320,316,358,408,422,431,442,509,484,500,768,723,838,801,753,895,946,955,1037],\"type\":\"bar\"}],                        {\"legend\":{\"bgcolor\":\"#F5F6F9\",\"font\":{\"color\":\"#4D5663\"}},\"paper_bgcolor\":\"#F5F6F9\",\"plot_bgcolor\":\"#F5F6F9\",\"template\":{\"data\":{\"barpolar\":[{\"marker\":{\"line\":{\"color\":\"#E5ECF6\",\"width\":0.5},\"pattern\":{\"fillmode\":\"overlay\",\"size\":10,\"solidity\":0.2}},\"type\":\"barpolar\"}],\"bar\":[{\"error_x\":{\"color\":\"#2a3f5f\"},\"error_y\":{\"color\":\"#2a3f5f\"},\"marker\":{\"line\":{\"color\":\"#E5ECF6\",\"width\":0.5},\"pattern\":{\"fillmode\":\"overlay\",\"size\":10,\"solidity\":0.2}},\"type\":\"bar\"}],\"carpet\":[{\"aaxis\":{\"endlinecolor\":\"#2a3f5f\",\"gridcolor\":\"white\",\"linecolor\":\"white\",\"minorgridcolor\":\"white\",\"startlinecolor\":\"#2a3f5f\"},\"baxis\":{\"endlinecolor\":\"#2a3f5f\",\"gridcolor\":\"white\",\"linecolor\":\"white\",\"minorgridcolor\":\"white\",\"startlinecolor\":\"#2a3f5f\"},\"type\":\"carpet\"}],\"choropleth\":[{\"colorbar\":{\"outlinewidth\":0,\"ticks\":\"\"},\"type\":\"choropleth\"}],\"contourcarpet\":[{\"colorbar\":{\"outlinewidth\":0,\"ticks\":\"\"},\"type\":\"contourcarpet\"}],\"contour\":[{\"colorbar\":{\"outlinewidth\":0,\"ticks\":\"\"},\"colorscale\":[[0.0,\"#0d0887\"],[0.1111111111111111,\"#46039f\"],[0.2222222222222222,\"#7201a8\"],[0.3333333333333333,\"#9c179e\"],[0.4444444444444444,\"#bd3786\"],[0.5555555555555556,\"#d8576b\"],[0.6666666666666666,\"#ed7953\"],[0.7777777777777778,\"#fb9f3a\"],[0.8888888888888888,\"#fdca26\"],[1.0,\"#f0f921\"]],\"type\":\"contour\"}],\"heatmapgl\":[{\"colorbar\":{\"outlinewidth\":0,\"ticks\":\"\"},\"colorscale\":[[0.0,\"#0d0887\"],[0.1111111111111111,\"#46039f\"],[0.2222222222222222,\"#7201a8\"],[0.3333333333333333,\"#9c179e\"],[0.4444444444444444,\"#bd3786\"],[0.5555555555555556,\"#d8576b\"],[0.6666666666666666,\"#ed7953\"],[0.7777777777777778,\"#fb9f3a\"],[0.8888888888888888,\"#fdca26\"],[1.0,\"#f0f921\"]],\"type\":\"heatmapgl\"}],\"heatmap\":[{\"colorbar\":{\"outlinewidth\":0,\"ticks\":\"\"},\"colorscale\":[[0.0,\"#0d0887\"],[0.1111111111111111,\"#46039f\"],[0.2222222222222222,\"#7201a8\"],[0.3333333333333333,\"#9c179e\"],[0.4444444444444444,\"#bd3786\"],[0.5555555555555556,\"#d8576b\"],[0.6666666666666666,\"#ed7953\"],[0.7777777777777778,\"#fb9f3a\"],[0.8888888888888888,\"#fdca26\"],[1.0,\"#f0f921\"]],\"type\":\"heatmap\"}],\"histogram2dcontour\":[{\"colorbar\":{\"outlinewidth\":0,\"ticks\":\"\"},\"colorscale\":[[0.0,\"#0d0887\"],[0.1111111111111111,\"#46039f\"],[0.2222222222222222,\"#7201a8\"],[0.3333333333333333,\"#9c179e\"],[0.4444444444444444,\"#bd3786\"],[0.5555555555555556,\"#d8576b\"],[0.6666666666666666,\"#ed7953\"],[0.7777777777777778,\"#fb9f3a\"],[0.8888888888888888,\"#fdca26\"],[1.0,\"#f0f921\"]],\"type\":\"histogram2dcontour\"}],\"histogram2d\":[{\"colorbar\":{\"outlinewidth\":0,\"ticks\":\"\"},\"colorscale\":[[0.0,\"#0d0887\"],[0.1111111111111111,\"#46039f\"],[0.2222222222222222,\"#7201a8\"],[0.3333333333333333,\"#9c179e\"],[0.4444444444444444,\"#bd3786\"],[0.5555555555555556,\"#d8576b\"],[0.6666666666666666,\"#ed7953\"],[0.7777777777777778,\"#fb9f3a\"],[0.8888888888888888,\"#fdca26\"],[1.0,\"#f0f921\"]],\"type\":\"histogram2d\"}],\"histogram\":[{\"marker\":{\"pattern\":{\"fillmode\":\"overlay\",\"size\":10,\"solidity\":0.2}},\"type\":\"histogram\"}],\"mesh3d\":[{\"colorbar\":{\"outlinewidth\":0,\"ticks\":\"\"},\"type\":\"mesh3d\"}],\"parcoords\":[{\"line\":{\"colorbar\":{\"outlinewidth\":0,\"ticks\":\"\"}},\"type\":\"parcoords\"}],\"pie\":[{\"automargin\":true,\"type\":\"pie\"}],\"scatter3d\":[{\"line\":{\"colorbar\":{\"outlinewidth\":0,\"ticks\":\"\"}},\"marker\":{\"colorbar\":{\"outlinewidth\":0,\"ticks\":\"\"}},\"type\":\"scatter3d\"}],\"scattercarpet\":[{\"marker\":{\"colorbar\":{\"outlinewidth\":0,\"ticks\":\"\"}},\"type\":\"scattercarpet\"}],\"scattergeo\":[{\"marker\":{\"colorbar\":{\"outlinewidth\":0,\"ticks\":\"\"}},\"type\":\"scattergeo\"}],\"scattergl\":[{\"marker\":{\"colorbar\":{\"outlinewidth\":0,\"ticks\":\"\"}},\"type\":\"scattergl\"}],\"scattermapbox\":[{\"marker\":{\"colorbar\":{\"outlinewidth\":0,\"ticks\":\"\"}},\"type\":\"scattermapbox\"}],\"scatterpolargl\":[{\"marker\":{\"colorbar\":{\"outlinewidth\":0,\"ticks\":\"\"}},\"type\":\"scatterpolargl\"}],\"scatterpolar\":[{\"marker\":{\"colorbar\":{\"outlinewidth\":0,\"ticks\":\"\"}},\"type\":\"scatterpolar\"}],\"scatter\":[{\"fillpattern\":{\"fillmode\":\"overlay\",\"size\":10,\"solidity\":0.2},\"type\":\"scatter\"}],\"scatterternary\":[{\"marker\":{\"colorbar\":{\"outlinewidth\":0,\"ticks\":\"\"}},\"type\":\"scatterternary\"}],\"surface\":[{\"colorbar\":{\"outlinewidth\":0,\"ticks\":\"\"},\"colorscale\":[[0.0,\"#0d0887\"],[0.1111111111111111,\"#46039f\"],[0.2222222222222222,\"#7201a8\"],[0.3333333333333333,\"#9c179e\"],[0.4444444444444444,\"#bd3786\"],[0.5555555555555556,\"#d8576b\"],[0.6666666666666666,\"#ed7953\"],[0.7777777777777778,\"#fb9f3a\"],[0.8888888888888888,\"#fdca26\"],[1.0,\"#f0f921\"]],\"type\":\"surface\"}],\"table\":[{\"cells\":{\"fill\":{\"color\":\"#EBF0F8\"},\"line\":{\"color\":\"white\"}},\"header\":{\"fill\":{\"color\":\"#C8D4E3\"},\"line\":{\"color\":\"white\"}},\"type\":\"table\"}]},\"layout\":{\"annotationdefaults\":{\"arrowcolor\":\"#2a3f5f\",\"arrowhead\":0,\"arrowwidth\":1},\"autotypenumbers\":\"strict\",\"coloraxis\":{\"colorbar\":{\"outlinewidth\":0,\"ticks\":\"\"}},\"colorscale\":{\"diverging\":[[0,\"#8e0152\"],[0.1,\"#c51b7d\"],[0.2,\"#de77ae\"],[0.3,\"#f1b6da\"],[0.4,\"#fde0ef\"],[0.5,\"#f7f7f7\"],[0.6,\"#e6f5d0\"],[0.7,\"#b8e186\"],[0.8,\"#7fbc41\"],[0.9,\"#4d9221\"],[1,\"#276419\"]],\"sequential\":[[0.0,\"#0d0887\"],[0.1111111111111111,\"#46039f\"],[0.2222222222222222,\"#7201a8\"],[0.3333333333333333,\"#9c179e\"],[0.4444444444444444,\"#bd3786\"],[0.5555555555555556,\"#d8576b\"],[0.6666666666666666,\"#ed7953\"],[0.7777777777777778,\"#fb9f3a\"],[0.8888888888888888,\"#fdca26\"],[1.0,\"#f0f921\"]],\"sequentialminus\":[[0.0,\"#0d0887\"],[0.1111111111111111,\"#46039f\"],[0.2222222222222222,\"#7201a8\"],[0.3333333333333333,\"#9c179e\"],[0.4444444444444444,\"#bd3786\"],[0.5555555555555556,\"#d8576b\"],[0.6666666666666666,\"#ed7953\"],[0.7777777777777778,\"#fb9f3a\"],[0.8888888888888888,\"#fdca26\"],[1.0,\"#f0f921\"]]},\"colorway\":[\"#636efa\",\"#EF553B\",\"#00cc96\",\"#ab63fa\",\"#FFA15A\",\"#19d3f3\",\"#FF6692\",\"#B6E880\",\"#FF97FF\",\"#FECB52\"],\"font\":{\"color\":\"#2a3f5f\"},\"geo\":{\"bgcolor\":\"white\",\"lakecolor\":\"white\",\"landcolor\":\"#E5ECF6\",\"showlakes\":true,\"showland\":true,\"subunitcolor\":\"white\"},\"hoverlabel\":{\"align\":\"left\"},\"hovermode\":\"closest\",\"mapbox\":{\"style\":\"light\"},\"paper_bgcolor\":\"white\",\"plot_bgcolor\":\"#E5ECF6\",\"polar\":{\"angularaxis\":{\"gridcolor\":\"white\",\"linecolor\":\"white\",\"ticks\":\"\"},\"bgcolor\":\"#E5ECF6\",\"radialaxis\":{\"gridcolor\":\"white\",\"linecolor\":\"white\",\"ticks\":\"\"}},\"scene\":{\"xaxis\":{\"backgroundcolor\":\"#E5ECF6\",\"gridcolor\":\"white\",\"gridwidth\":2,\"linecolor\":\"white\",\"showbackground\":true,\"ticks\":\"\",\"zerolinecolor\":\"white\"},\"yaxis\":{\"backgroundcolor\":\"#E5ECF6\",\"gridcolor\":\"white\",\"gridwidth\":2,\"linecolor\":\"white\",\"showbackground\":true,\"ticks\":\"\",\"zerolinecolor\":\"white\"},\"zaxis\":{\"backgroundcolor\":\"#E5ECF6\",\"gridcolor\":\"white\",\"gridwidth\":2,\"linecolor\":\"white\",\"showbackground\":true,\"ticks\":\"\",\"zerolinecolor\":\"white\"}},\"shapedefaults\":{\"line\":{\"color\":\"#2a3f5f\"}},\"ternary\":{\"aaxis\":{\"gridcolor\":\"white\",\"linecolor\":\"white\",\"ticks\":\"\"},\"baxis\":{\"gridcolor\":\"white\",\"linecolor\":\"white\",\"ticks\":\"\"},\"bgcolor\":\"#E5ECF6\",\"caxis\":{\"gridcolor\":\"white\",\"linecolor\":\"white\",\"ticks\":\"\"}},\"title\":{\"x\":0.05},\"xaxis\":{\"automargin\":true,\"gridcolor\":\"white\",\"linecolor\":\"white\",\"ticks\":\"\",\"title\":{\"standoff\":15},\"zerolinecolor\":\"white\",\"zerolinewidth\":2},\"yaxis\":{\"automargin\":true,\"gridcolor\":\"white\",\"linecolor\":\"white\",\"ticks\":\"\",\"title\":{\"standoff\":15},\"zerolinecolor\":\"white\",\"zerolinewidth\":2}}},\"title\":{\"font\":{\"color\":\"#4D5663\"},\"text\":\"Muertes por enfermedades infecciosas intestinales\"},\"xaxis\":{\"gridcolor\":\"#E1E5ED\",\"showgrid\":true,\"tickfont\":{\"color\":\"#4D5663\"},\"title\":{\"font\":{\"color\":\"#4D5663\"},\"text\":\"Periodo\"},\"zerolinecolor\":\"#E1E5ED\"},\"yaxis\":{\"gridcolor\":\"#E1E5ED\",\"showgrid\":true,\"tickfont\":{\"color\":\"#4D5663\"},\"title\":{\"font\":{\"color\":\"#4D5663\"},\"text\":\"N\\u00ba v\\u00edctimas\"},\"zerolinecolor\":\"#E1E5ED\"}},                        {\"showLink\": true, \"linkText\": \"Export to plot.ly\", \"plotlyServerURL\": \"https://plot.ly\", \"responsive\": true}                    ).then(function(){\n",
       "                            \n",
       "var gd = document.getElementById('18efe63e-056a-42b2-bd2d-36a7e23b1088');\n",
       "var x = new MutationObserver(function (mutations, observer) {{\n",
       "        var display = window.getComputedStyle(gd).display;\n",
       "        if (!display || display === 'none') {{\n",
       "            console.log([gd, 'removed!']);\n",
       "            Plotly.purge(gd);\n",
       "            observer.disconnect();\n",
       "        }}\n",
       "}});\n",
       "\n",
       "// Listen for the removal of the full notebook cells\n",
       "var notebookContainer = gd.closest('#notebook-container');\n",
       "if (notebookContainer) {{\n",
       "    x.observe(notebookContainer, {childList: true});\n",
       "}}\n",
       "\n",
       "// Listen for the clearing of the current output cell\n",
       "var outputEl = gd.closest('.output');\n",
       "if (outputEl) {{\n",
       "    x.observe(outputEl, {childList: true});\n",
       "}}\n",
       "\n",
       "                        })                };                });            </script>        </div>"
      ]
     },
     "metadata": {},
     "output_type": "display_data"
    }
   ],
   "source": [
    "dataset3.iplot(kind='bar',\n",
    "               x='Periodo',\n",
    "               y ='001',\n",
    "               title='Muertes por enfermedades infecciosas intestinales',\n",
    "               yTitle='Nº víctimas',\n",
    "               xTitle='Periodo')"
   ]
  },
  {
   "cell_type": "code",
   "execution_count": 12,
   "metadata": {},
   "outputs": [
    {
     "data": {
      "text/plain": [
       "\"\\ndataset.iplot(kind='VARIABLE',\\n                  x='VARIABLE',\\n                  xTitle='AXIS TITLE',\\n                  yTitle='AXIS TITLE',\\n                  title='VIZ TITLE')\\n\""
      ]
     },
     "execution_count": 12,
     "metadata": {},
     "output_type": "execute_result"
    }
   ],
   "source": [
    "# Cufflinks bar plot\n",
    "'''\n",
    "dataset.iplot(kind='VARIABLE',\n",
    "                  x='VARIABLE',\n",
    "                  xTitle='AXIS TITLE',\n",
    "                  yTitle='AXIS TITLE',\n",
    "                  title='VIZ TITLE')\n",
    "'''"
   ]
  },
  {
   "cell_type": "code",
   "execution_count": null,
   "metadata": {},
   "outputs": [],
   "source": []
  },
  {
   "cell_type": "code",
   "execution_count": null,
   "metadata": {},
   "outputs": [],
   "source": [
    "# Cufflinks line plot\n",
    "'''\n",
    "dataset.iplot(kind='line',\n",
    "                   x='Periodo',\n",
    "                   xTitle='AXIS TITLE',\n",
    "                   yTitle='AXIS TITLE',\n",
    "                   title='VIZ TITLE')\n",
    "'''"
   ]
  },
  {
   "cell_type": "code",
   "execution_count": null,
   "metadata": {},
   "outputs": [],
   "source": []
  },
  {
   "cell_type": "code",
   "execution_count": null,
   "metadata": {},
   "outputs": [],
   "source": [
    "# Cufflinks scatter plot\n",
    "'''\n",
    "dataset3.iplot(x='Periodo', \n",
    "              y='cause_code', \n",
    "              categories='001-008',\n",
    "              xTitle='AXIS TITLE', \n",
    "              yTitle='AXIS TITLE',\n",
    "              title='VIZ TITLE')\n",
    "'''"
   ]
  }
 ],
 "metadata": {
  "kernelspec": {
   "display_name": "Python (m2_env)",
   "language": "python",
   "name": "myenv"
  },
  "language_info": {
   "codemirror_mode": {
    "name": "ipython",
    "version": 3
   },
   "file_extension": ".py",
   "mimetype": "text/x-python",
   "name": "python",
   "nbconvert_exporter": "python",
   "pygments_lexer": "ipython3",
   "version": "3.9.18"
  }
 },
 "nbformat": 4,
 "nbformat_minor": 2
}
